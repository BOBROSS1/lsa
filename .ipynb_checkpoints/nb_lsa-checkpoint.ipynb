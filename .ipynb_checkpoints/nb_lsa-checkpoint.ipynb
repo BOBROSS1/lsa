{
 "cells": [
  {
   "cell_type": "code",
   "execution_count": 100,
   "metadata": {},
   "outputs": [],
   "source": [
    "# python implementation of least square appproximation (LSA)\n",
    "# program will fit data optimal to linear model (minimal sum squares)\n",
    "# of form (y = a + bx)\n",
    "import numpy as np\n",
    "%matplotlib inline\n",
    "import matplotlib.pyplot as plt\n",
    "\n",
    "\n",
    "def build_matrix(data):\n",
    "    ''' function to build up a matrix from raw datapoints (x, y) '''\n",
    "    return [(1, point[0]) for point in data]\n",
    "\n",
    "\n",
    "def build_b(data):\n",
    "    ''' funtion to build up b vector of lsa formula '''\n",
    "    return [point[1] for point in data]\n",
    "\n",
    "\n",
    "def matrix_transpose(A):\n",
    "    ''' function to transpase matrix A '''\n",
    "    return [[A[j][i] for j in range(len(A))] for i in range(len(A[0]))]\n",
    "\n",
    "\n",
    "def lsa(data):\n",
    "    ''' function that calculates the lsa using formula: A'Ax = A'b returns \n",
    "        1. optimal linear function  2.vector x (with unknows a & b) '''\n",
    "    A = np.array(build_matrix(data))\n",
    "    b = np.array(build_b(data))\n",
    "    At = np.array(matrix_transpose(A))\n",
    "\n",
    "    AtAinv = np.linalg.inv(np.matmul(At, A))\n",
    "    Atb = np.matmul(At, b)\n",
    "    x = np.matmul(AtAinv, Atb)\n",
    "    formula = 'y = %s + %sx' % (round(x[0], 3), round(x[1], 3))\n",
    "    return formula, x"
   ]
  },
  {
   "cell_type": "code",
   "execution_count": 101,
   "metadata": {},
   "outputs": [
    {
     "name": "stdout",
     "output_type": "stream",
     "text": [
      "x vector: [0.66666667 1.        ]\n",
      "Linear formula: y = 0.667 + 1.0x\n"
     ]
    }
   ],
   "source": [
    "# input data\n",
    "data = [(1, 2), (2, 2), (3, 4)]\n",
    "\n",
    "# plotting lsa\n",
    "lsa = lsa(data)\n",
    "print(\"x vector:\", lsa[1])\n",
    "print(\"Linear formula:\", lsa[0])\n",
    "\n",
    "y_intercept = lsa[1][0]\n",
    "coefficient = lsa[1][1]\n",
    "\n",
    "# x and y for orignal data and model\n",
    "data_x = [x[0] for x in data]\n",
    "data_y = [x[1] for x in data]\n",
    "model_x = list(range(-10,11))\n",
    "model_y = [(y_intercept+i*coefficient) for i in x]"
   ]
  },
  {
   "cell_type": "code",
   "execution_count": 102,
   "metadata": {},
   "outputs": [
    {
     "data": {
      "text/plain": [
       "<matplotlib.collections.PathCollection at 0x118087390>"
      ]
     },
     "execution_count": 102,
     "metadata": {},
     "output_type": "execute_result"
    },
    {
     "data": {
      "image/png": "[encoded data removed]",
      "text/plain": [
       "<Figure size 432x288 with 1 Axes>"
      ]
     },
     "metadata": {},
     "output_type": "display_data"
    }
   ],
   "source": [
    "plt.style.use('seaborn-whitegrid')\n",
    "fig = plt.figure()\n",
    "ax = plt.axes()\n",
    "ax.plot(model_x, model_y);\n",
    "ax.scatter(data_x, data_y, c='red')"
   ]
  }
 ],
 "metadata": {
  "kernelspec": {
   "display_name": "Python 3",
   "language": "python",
   "name": "python3"
  },
  "language_info": {
   "codemirror_mode": {
    "name": "ipython",
    "version": 3
   },
   "file_extension": ".py",
   "mimetype": "text/x-python",
   "name": "python",
   "nbconvert_exporter": "python",
   "pygments_lexer": "ipython3",
   "version": "3.7.1"
  }
 },
 "nbformat": 4,
 "nbformat_minor": 2
}
